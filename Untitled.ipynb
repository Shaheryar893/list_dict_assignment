{
  "nbformat": 4,
  "nbformat_minor": 0,
  "metadata": {
    "colab": {
      "provenance": [],
      "authorship_tag": "ABX9TyP9aPxgCCsbd+2RpCKQ406d",
      "include_colab_link": true
    },
    "kernelspec": {
      "name": "python3",
      "display_name": "Python 3"
    },
    "language_info": {
      "name": "python"
    }
  },
  "cells": [
    {
      "cell_type": "markdown",
      "metadata": {
        "id": "view-in-github",
        "colab_type": "text"
      },
      "source": [
        "<a href=\"https://colab.research.google.com/github/Shaheryar893/list_dict_assignment/blob/main/Untitled.ipynb\" target=\"_parent\"><img src=\"https://colab.research.google.com/assets/colab-badge.svg\" alt=\"Open In Colab\"/></a>"
      ]
    },
    {
      "cell_type": "code",
      "execution_count": null,
      "metadata": {
        "colab": {
          "base_uri": "https://localhost:8080/"
        },
        "id": "o200VTwBD86V",
        "outputId": "82c5941b-9cc9-4ae3-9d14-1aa13067bd07"
      },
      "outputs": [
        {
          "output_type": "stream",
          "name": "stdout",
          "text": [
            "List after adding an element: [10, 25, 34, 18, 47, 55]\n",
            "List after removing an element: [10, 25, 34, 47, 55]\n",
            "Maximum number in the list: 55\n",
            "Minimum number in the list: 10\n"
          ]
        }
      ],
      "source": [
        "# Create a list of 5 numbers\n",
        "numbers = [10, 25, 34, 18, 47]\n",
        "\n",
        "# Add an element to the list\n",
        "numbers.append(55)\n",
        "print(\"List after adding an element:\", numbers)\n",
        "\n",
        "# Remove one element (e.g., remove 18)\n",
        "numbers.remove(18)\n",
        "print(\"List after removing an element:\", numbers)\n",
        "\n",
        "# Find the maximum number in the list\n",
        "max_num = max(numbers)\n",
        "print(\"Maximum number in the list:\", max_num)\n",
        "\n",
        "# Find the minimum number in the list\n",
        "min_num = min(numbers)\n",
        "print(\"Minimum number in the list:\", min_num)\n"
      ]
    },
    {
      "cell_type": "code",
      "source": [
        "# List of fruits\n",
        "fruits = ['apple', 'banana', 'cherry', 'orange', 'kiwi', 'mango']\n",
        "\n",
        "# Access the first, middle, and last element of the list\n",
        "first_fruit = fruits[0]\n",
        "middle_fruit = fruits[len(fruits) // 2]\n",
        "last_fruit = fruits[-1]\n",
        "\n",
        "print(\"First fruit:\", first_fruit)\n",
        "print(\"Middle fruit:\", middle_fruit)\n",
        "print(\"Last fruit:\", last_fruit)\n",
        "\n",
        "# Change the second element to 'blueberry'\n",
        "fruits[1] = 'blueberry'\n",
        "\n",
        "print(\"List after changing the second element:\", fruits)\n"
      ],
      "metadata": {
        "colab": {
          "base_uri": "https://localhost:8080/"
        },
        "id": "iUDTiIg2E8Ty",
        "outputId": "6ab2a309-a45e-4fea-a545-4c2ae678003e"
      },
      "execution_count": null,
      "outputs": [
        {
          "output_type": "stream",
          "name": "stdout",
          "text": [
            "First fruit: apple\n",
            "Middle fruit: orange\n",
            "Last fruit: mango\n",
            "List after changing the second element: ['apple', 'blueberry', 'cherry', 'orange', 'kiwi', 'mango']\n"
          ]
        }
      ]
    },
    {
      "cell_type": "code",
      "source": [
        "# Input: list of student names\n",
        "student_names = input(\"Enter student names separated by commas: \").split(',')\n",
        "\n",
        "# Remove any extra spaces and strip each name\n",
        "student_names = [name.strip() for name in student_names]\n",
        "\n",
        "# Sort the names in alphabetical order\n",
        "student_names.sort()\n",
        "\n",
        "# Print the sorted list of names\n",
        "print(\"Sorted list of student names:\", student_names)\n",
        "\n"
      ],
      "metadata": {
        "colab": {
          "base_uri": "https://localhost:8080/"
        },
        "id": "Y9TACrcuHJML",
        "outputId": "a8da248e-d145-4cec-d4de-3de20fdb6f64"
      },
      "execution_count": null,
      "outputs": [
        {
          "output_type": "stream",
          "name": "stdout",
          "text": [
            "Enter student names separated by commas: shaheryar,Rashid,Ali hassan\n",
            "Sorted list of student names: ['Ali hassan', 'Rashid', 'shaheryar']\n"
          ]
        }
      ]
    },
    {
      "cell_type": "code",
      "source": [
        "# Input: list of integers\n",
        "integers = list(map(int, input(\"Enter integers separated by spaces: \").split()))\n",
        "\n",
        "# Print the first 3 elements\n",
        "first_3 = integers[:3]\n",
        "print(\"First 3 elements:\", first_3)\n",
        "\n",
        "# Print the last 2 elements\n",
        "last_2 = integers[-2:]\n",
        "print(\"Last 2 elements:\", last_2)\n",
        "\n",
        "# Print the entire list in reverse order\n",
        "reversed_list = integers[::-1]\n",
        "print(\"List in reverse order:\", reversed_list)\n"
      ],
      "metadata": {
        "colab": {
          "base_uri": "https://localhost:8080/"
        },
        "id": "HPu177lzHYET",
        "outputId": "e5024a87-7565-43a3-d32d-3d03d369c279"
      },
      "execution_count": null,
      "outputs": [
        {
          "output_type": "stream",
          "name": "stdout",
          "text": [
            "Enter integers separated by spaces: 45 78 96 34\n",
            "First 3 elements: [45, 78, 96]\n",
            "Last 2 elements: [96, 34]\n",
            "List in reverse order: [34, 96, 78, 45]\n"
          ]
        }
      ]
    },
    {
      "cell_type": "code",
      "source": [
        "# Input: list of elements\n",
        "elements = input(\"Enter elements separated by spaces: \").split()\n",
        "\n",
        "# Remove duplicates by converting the list to a set, then convert it back to a list\n",
        "unique_elements = list(set(elements))\n",
        "\n",
        "# Print the new list without duplicates\n",
        "print(\"List without duplicates:\", unique_elements)\n"
      ],
      "metadata": {
        "colab": {
          "base_uri": "https://localhost:8080/"
        },
        "id": "F72BJ4m7Ih90",
        "outputId": "5e6291ea-cb1f-4cfd-9c7c-080e6546e479"
      },
      "execution_count": null,
      "outputs": [
        {
          "output_type": "stream",
          "name": "stdout",
          "text": [
            "Enter elements separated by spaces: 43 65 78 91 43 78 21\n",
            "List without duplicates: ['43', '21', '65', '91', '78']\n"
          ]
        }
      ]
    },
    {
      "cell_type": "code",
      "source": [
        "# Create a dictionary with countries as keys and capitals as values\n",
        "countries_and_capitals = {\n",
        "    'France': 'Paris',\n",
        "    'Japan': 'Tokyo',\n",
        "    'Canada': 'Ottawa',\n",
        "    'India': 'New Delhi',\n",
        "    'Brazil': 'Brasília'\n",
        "}\n",
        "\n",
        "# Display all countries and their capitals\n",
        "print(\"Countries and their capitals:\")\n",
        "for country, capital in countries_and_capitals.items():\n",
        "    print(f\"{country}: {capital}\")\n"
      ],
      "metadata": {
        "colab": {
          "base_uri": "https://localhost:8080/"
        },
        "id": "af0PTgKDJbvv",
        "outputId": "c84e6d84-38f9-4e37-d3e3-6f34f5fda72b"
      },
      "execution_count": null,
      "outputs": [
        {
          "output_type": "stream",
          "name": "stdout",
          "text": [
            "Countries and their capitals:\n",
            "France: Paris\n",
            "Japan: Tokyo\n",
            "Canada: Ottawa\n",
            "India: New Delhi\n",
            "Brazil: Brasília\n"
          ]
        }
      ]
    },
    {
      "cell_type": "code",
      "source": [
        "# Given dictionary\n",
        "student = {'name': 'John', 'age': 22, 'grade': 'B'}\n",
        "\n",
        "# Update the 'grade' value to 'A'\n",
        "student['grade'] = 'A'\n",
        "\n",
        "# Add a new key-value pair for 'major' with the value 'Computer Science'\n",
        "student['major'] = 'Computer Science'\n",
        "\n",
        "# Print the updated dictionary\n",
        "print(\"Updated student dictionary:\", student)\n"
      ],
      "metadata": {
        "colab": {
          "base_uri": "https://localhost:8080/"
        },
        "id": "oL-qmtDRK23S",
        "outputId": "6855d931-ce97-46ee-9625-5ff52d1b3563"
      },
      "execution_count": null,
      "outputs": [
        {
          "output_type": "stream",
          "name": "stdout",
          "text": [
            "Updated student dictionary: {'name': 'John', 'age': 22, 'grade': 'A', 'major': 'Computer Science'}\n"
          ]
        }
      ]
    },
    {
      "cell_type": "code",
      "source": [
        "# Create a dictionary with subjects as keys and lists of marks as values\n",
        "marks = {\n",
        "    'Math': [85, 90, 78],\n",
        "    'Science': [88, 92, 80],\n",
        "    'English': [75, 80, 85]\n",
        "}\n",
        "\n",
        "# Calculate and print the average marks for each subject\n",
        "print(\"Average marks for each subject:\")\n",
        "for subject, scores in marks.items():\n",
        "    average = sum(scores) / len(scores)\n",
        "    print(f\"{subject}: {average:.2f}\")\n"
      ],
      "metadata": {
        "colab": {
          "base_uri": "https://localhost:8080/"
        },
        "id": "c3JzuI8PLxg-",
        "outputId": "b1dfe496-0353-45ba-b58b-491ad6bcc270"
      },
      "execution_count": null,
      "outputs": [
        {
          "output_type": "stream",
          "name": "stdout",
          "text": [
            "Average marks for each subject:\n",
            "Math: 84.33\n",
            "Science: 86.67\n",
            "English: 80.00\n"
          ]
        }
      ]
    },
    {
      "cell_type": "code",
      "source": [],
      "metadata": {
        "id": "dQ3lUKVSMs9x"
      },
      "execution_count": null,
      "outputs": []
    }
  ]
}